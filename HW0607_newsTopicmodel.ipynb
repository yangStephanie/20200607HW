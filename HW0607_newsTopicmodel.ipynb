{
 "cells": [
  {
   "cell_type": "markdown",
   "metadata": {},
   "source": [
    "## Mallet-TM : \n",
    "### Extract Topic Model with LdaMallet from KCC News and CIS test data"
   ]
  },
  {
   "cell_type": "code",
   "execution_count": 1,
   "metadata": {},
   "outputs": [],
   "source": [
    "# -*- coding: utf-8 -*-\n",
    "\"\"\"\n",
    "Input: \"CkipNewsCis18850-KccDict2020.txt\"\n",
    "Output: \"CkipNewsCis18850-KccDict2020-MalletNum12.txt\"\n",
    "\n",
    "@author: johnson\n",
    "\"\"\"\n",
    "# When numpy version = 1.19.2 => gensim version should downgrade to 3.8.3\n",
    "from gensim import corpora, models, utils\n",
    "from gensim.models import LdaModel\n",
    "from gensim.models import CoherenceModel"
   ]
  },
  {
   "cell_type": "markdown",
   "metadata": {},
   "source": [
    "### read data from txt file, and tokenize words, clean-up text"
   ]
  },
  {
   "cell_type": "code",
   "execution_count": 2,
   "metadata": {},
   "outputs": [
    {
     "name": "stdout",
     "output_type": "stream",
     "text": [
      "fList[:2] =  [['馬英九', '昨天', '上午', '視察', '衛武營藝術文化中心', '文化部', '洪孟啟', '工程', '副主委', '顏久榮', '高雄市', '副市長', '吳宏謀', '一同', '到場', '聽取', '衛武營', '興建', '工程', '簡報', '瞭解', '工程進度', '執行', '情形', '完成', '百分之九十五', '工程進度', '共計', '投入', '新臺幣', '一百零五億八千萬', '經費', '預計', '六月', '竣工', '明年', '開館', '營運', '目標', '馬英九', '指出', '衛武營', '案子', '九十四年', '編列', '預算', '核定', '施工', '正式', '完工', '時間', '長達', '十三', '原先', '預計', '故宮', '南院', '工程', '單位', '部門', '克服', '困難', '值得', '檢討', '總統', '致詞', '民國', '九十九年', '主持', '動土', '典禮', '原從', '黃土', '生長出', '有如', '魟魚', '悠遊', '海浪', '建築', '實在', '驚豔', '過程', '包含', '團隊', '付出', '努力', '籌建', '過程', '艱辛', '各界', '關注', '投入', '新建', '工程', '幾近', '完工', '特別', '肯定', '文化部', '籌建', '過程', '付出', '辛勞', '高雄市政府', '各界', '支持', '配合', '總統', '文化', '城市', '期許', '衛武營藝術文化中心', '臺灣', '藝術', '力量', '南方', '集結地', '臺北', '國家兩廳院', '臺中', '國家歌劇院', '攜手', '並進', '打造', '台灣', '國際', '藝文', '版圖', '地標', '文化部', '洪孟啟', '衛武營', '考驗', '面臨', '營運', '壓力', '文化部', '衛武營', '南部', '高雄市文化中心', '嘉義', '文化', '園區', '故宮', '南院', '台南', '地方', '藝文', '團體', '高雄大東文化藝術中心', '屏東', '演藝廳', '結合成', '文化', '廊帶', '衛武營', '國際', '接軌', '文化部', '邀請', '台灣', '旅德', '指揮家', '簡文彬', '擔任', '衛武', '國家', '藝術', '高雄市文化中心', '藝術', '總監', '接洽', '國外', '藝文', '團隊', '國際', '表演', '節目', '第一', '高雄', '演出', '衛武營', '台灣', '文化', '指標', '場館'], ['日本', '九州熊本', '接連', '強震', '襲擊', '台灣', '捐贈', '熊本', '縣政府', '日本', '政府', '款項', '高雄市', '陳菊', '台南市長', '賴清德', '台中市長', '林佳龍', '捐出', '薪水', '消息', '傳出', '日本', '網友', '紛紛', '留言', '台灣', '熊本', '十四日', '十六日', '接連', '發生', '強震', '災情', '慘重', '外交部', '捐贈', '熊本', '縣政府', '一千萬', '日圓', '總統', '馬英九', '指示', '追加', '援贈款', '五十萬', '美元', '日本', '政府', '新台幣', '一六', '賑災', '日本', 'yahoo', '新聞', '報導', '台灣', '市長', '一月', '消息', '引述', '台北', '市長', '柯文哲', '台灣', '災難', '日本', '關心', '協助', '日本', '震災', '協助', '一同', '日本', '祈禱', '底下', '評論', '突破', '一八', '持續', '日本', '網友', '台灣', '第一', '時間', '送暖', '留言', '台灣', '兄弟', '台灣', '家族', '推特', '網友', '英文', '發文', '台灣', '親愛', '台灣', '捐款給', '熊本', '深深', '感激', '溫暖', '支援', '日本人', '台灣', '政府', '支持', '熊本', '表達', '衷心', '親愛', '支持', '網友', '放上', '日本', '中華民國', '國旗', '一同', '飄揚', '照片', '截取', '台灣', '搜救隊', '待命', '支援', '日本', '新聞', '畫面']]\n",
      "------------------------------\n"
     ]
    }
   ],
   "source": [
    "fList = []\n",
    "with open(\"KCC Data/CkipNewsCis18850-KccDict2020.txt\",\"r\", encoding='utf-8-sig') as files:\n",
    "     for file in files:\n",
    "        #simple_preprocess: tokenize,去除標點 - gensim.utils.simple_preprocess(doc, deacc=False, min_len=2, max_len=15)\n",
    "        fList.append(list(utils.simple_preprocess(file, deacc=True, min_len=2,)))\n",
    "print(\"fList[:2] = \", fList[:2])\n",
    "print(\"------------------------------\")"
   ]
  },
  {
   "cell_type": "markdown",
   "metadata": {},
   "source": [
    "### creat dictionary for corpus"
   ]
  },
  {
   "cell_type": "code",
   "execution_count": 3,
   "metadata": {},
   "outputs": [
    {
     "name": "stdout",
     "output_type": "stream",
     "text": [
      "dict =  Dictionary(113533 unique tokens: ['一同', '一百零五億八千萬', '上午', '並進', '主持']...)\n",
      "------------------------------\n"
     ]
    }
   ],
   "source": [
    "# creat a unique id for each word segment\n",
    "dict = corpora.Dictionary(list(fList))\n",
    "print(\"dict = \", dict)\n",
    "print(\"------------------------------\")"
   ]
  },
  {
   "cell_type": "markdown",
   "metadata": {},
   "source": [
    "### creat corpus need for Topic Modeling"
   ]
  },
  {
   "cell_type": "code",
   "execution_count": 4,
   "metadata": {},
   "outputs": [
    {
     "name": "stdout",
     "output_type": "stream",
     "text": [
      "corpus[:1] =  [[(0, 1), (1, 1), (2, 1), (3, 1), (4, 1), (5, 1), (6, 1), (7, 2), (8, 1), (9, 1), (10, 1), (11, 1), (12, 1), (13, 1), (14, 1), (15, 1), (16, 1), (17, 1), (18, 1), (19, 1), (20, 1), (21, 1), (22, 1), (23, 2), (24, 1), (25, 1), (26, 1), (27, 3), (28, 2), (29, 1), (30, 1), (31, 1), (32, 1), (33, 1), (34, 1), (35, 1), (36, 1), (37, 3), (38, 1), (39, 2), (40, 1), (41, 1), (42, 1), (43, 1), (44, 1), (45, 1), (46, 1), (47, 2), (48, 1), (49, 1), (50, 1), (51, 4), (52, 2), (53, 1), (54, 1), (55, 1), (56, 1), (57, 1), (58, 1), (59, 2), (60, 1), (61, 1), (62, 1), (63, 1), (64, 1), (65, 1), (66, 1), (67, 1), (68, 2), (69, 4), (70, 5), (71, 1), (72, 1), (73, 1), (74, 1), (75, 1), (76, 1), (77, 1), (78, 1), (79, 1), (80, 1), (81, 1), (82, 1), (83, 1), (84, 1), (85, 2), (86, 1), (87, 1), (88, 1), (89, 2), (90, 1), (91, 1), (92, 1), (93, 1), (94, 1), (95, 1), (96, 1), (97, 1), (98, 1), (99, 1), (100, 1), (101, 2), (102, 1), (103, 1), (104, 1), (105, 1), (106, 2), (107, 1), (108, 1), (109, 1), (110, 1), (111, 1), (112, 1), (113, 1), (114, 1), (115, 1), (116, 3), (117, 3), (118, 1), (119, 6), (120, 2), (121, 1), (122, 1), (123, 1), (124, 3), (125, 1), (126, 1), (127, 1), (128, 1), (129, 1), (130, 1), (131, 1), (132, 1), (133, 1), (134, 2), (135, 1), (136, 2), (137, 1), (138, 1), (139, 1), (140, 1), (141, 1), (142, 2), (143, 1), (144, 1)]]\n",
      "================================================\n",
      "print lists of [word:frequency]\n",
      "('一同', 1)\n",
      "('一百零五億八千萬', 1)\n",
      "('上午', 1)\n",
      "('並進', 1)\n",
      "('主持', 1)\n",
      "('九十九年', 1)\n",
      "('九十四年', 1)\n",
      "('付出', 2)\n",
      "('值得', 1)\n",
      "('克服', 1)\n",
      "('六月', 1)\n",
      "('共計', 1)\n",
      "('典禮', 1)\n",
      "('到場', 1)\n",
      "('副主委', 1)\n",
      "('副市長', 1)\n",
      "('力量', 1)\n",
      "('努力', 1)\n",
      "('動土', 1)\n",
      "('包含', 1)\n",
      "('十三', 1)\n",
      "('南方', 1)\n",
      "('南部', 1)\n",
      "('南院', 2)\n",
      "('原先', 1)\n",
      "('原從', 1)\n",
      "('台南', 1)\n",
      "('台灣', 3)\n",
      "('各界', 2)\n",
      "('吳宏謀', 1)\n",
      "('單位', 1)\n",
      "('嘉義', 1)\n",
      "('困難', 1)\n",
      "('國外', 1)\n",
      "('國家', 1)\n",
      "('國家兩廳院', 1)\n",
      "('國家歌劇院', 1)\n",
      "('國際', 3)\n",
      "('園區', 1)\n",
      "('團隊', 2)\n",
      "('團體', 1)\n",
      "('地方', 1)\n",
      "('地標', 1)\n",
      "('城市', 1)\n",
      "('執行', 1)\n",
      "('場館', 1)\n",
      "('壓力', 1)\n",
      "('完工', 2)\n",
      "('完成', 1)\n",
      "('實在', 1)\n",
      "('屏東', 1)\n",
      "('工程', 4)\n",
      "('工程進度', 2)\n",
      "('幾近', 1)\n",
      "('廊帶', 1)\n",
      "('建築', 1)\n",
      "('悠遊', 1)\n",
      "('情形', 1)\n",
      "('打造', 1)\n",
      "('投入', 2)\n",
      "('指出', 1)\n",
      "('指揮家', 1)\n",
      "('指標', 1)\n",
      "('接洽', 1)\n",
      "('接軌', 1)\n",
      "('擔任', 1)\n",
      "('攜手', 1)\n",
      "('支持', 1)\n",
      "('故宮', 2)\n",
      "('文化', 4)\n",
      "('文化部', 5)\n",
      "('新建', 1)\n",
      "('新臺幣', 1)\n",
      "('施工', 1)\n",
      "('旅德', 1)\n",
      "('明年', 1)\n",
      "('昨天', 1)\n",
      "('時間', 1)\n",
      "('有如', 1)\n",
      "('期許', 1)\n",
      "('核定', 1)\n",
      "('案子', 1)\n",
      "('檢討', 1)\n",
      "('正式', 1)\n",
      "('民國', 1)\n",
      "('洪孟啟', 2)\n",
      "('海浪', 1)\n",
      "('演出', 1)\n",
      "('演藝廳', 1)\n",
      "('營運', 2)\n",
      "('版圖', 1)\n",
      "('特別', 1)\n",
      "('生長出', 1)\n",
      "('百分之九十五', 1)\n",
      "('目標', 1)\n",
      "('瞭解', 1)\n",
      "('竣工', 1)\n",
      "('第一', 1)\n",
      "('節目', 1)\n",
      "('簡報', 1)\n",
      "('簡文彬', 1)\n",
      "('籌建', 2)\n",
      "('結合成', 1)\n",
      "('經費', 1)\n",
      "('編列', 1)\n",
      "('總監', 1)\n",
      "('總統', 2)\n",
      "('考驗', 1)\n",
      "('聽取', 1)\n",
      "('肯定', 1)\n",
      "('致詞', 1)\n",
      "('臺中', 1)\n",
      "('臺北', 1)\n",
      "('臺灣', 1)\n",
      "('興建', 1)\n",
      "('艱辛', 1)\n",
      "('藝文', 3)\n",
      "('藝術', 3)\n",
      "('衛武', 1)\n",
      "('衛武營', 6)\n",
      "('衛武營藝術文化中心', 2)\n",
      "('表演', 1)\n",
      "('視察', 1)\n",
      "('辛勞', 1)\n",
      "('過程', 3)\n",
      "('邀請', 1)\n",
      "('部門', 1)\n",
      "('配合', 1)\n",
      "('長達', 1)\n",
      "('開館', 1)\n",
      "('關注', 1)\n",
      "('集結地', 1)\n",
      "('面臨', 1)\n",
      "('預算', 1)\n",
      "('預計', 2)\n",
      "('顏久榮', 1)\n",
      "('馬英九', 2)\n",
      "('驚豔', 1)\n",
      "('高雄', 1)\n",
      "('高雄大東文化藝術中心', 1)\n",
      "('高雄市', 1)\n",
      "('高雄市政府', 1)\n",
      "('高雄市文化中心', 2)\n",
      "('魟魚', 1)\n",
      "('黃土', 1)\n",
      "======================================================\n"
     ]
    }
   ],
   "source": [
    "# creat mapping matrix of [word_id, word_frequency] for each word segment\n",
    "corpus = [dict.doc2bow(text) for text in fList]   \n",
    "print(\"corpus[:1] = \", corpus[:1])  \n",
    "print(\"================================================\")\n",
    "\n",
    "print(\"print lists of [word:frequency]\")\n",
    "[[print((dict[id], freq)) for id,freq in cp] for cp in corpus[:1]]\n",
    "print(\"======================================================\")"
   ]
  },
  {
   "cell_type": "markdown",
   "metadata": {},
   "source": [
    "### building the Topic Model from MALLET\n",
    "#### enviroment setting for Mallet LDA: https://programminghistorian.org/en/lessons/topic-modeling-and-mallet#installing-mallet"
   ]
  },
  {
   "cell_type": "code",
   "execution_count": 5,
   "metadata": {},
   "outputs": [
    {
     "name": "stdout",
     "output_type": "stream",
     "text": [
      "strTM =  0[('土地', 0.03477087367247551), ('公園', 0.016475972540045767), ('地方', 0.01615325940268732), ('開發', 0.014340198321891685), ('公頃', 0.010637798509652057), ('規劃', 0.010092119931936866), ('工務局', 0.009511236284691662), ('開闢', 0.00872498973185472), ('完成', 0.008666314615971367), ('大樓', 0.007750982808191046), ('都市計畫', 0.007639500088012674), ('高雄市政府都市發展局', 0.007381329578125917), ('用地', 0.006906061139470751), ('拆除', 0.006759373349762366), ('興建', 0.006683095699114005), ('目前', 0.006577480490523969), ('徵收', 0.006477732793522267), ('社區', 0.006190224725693833), ('空間', 0.005996596843278765), ('道路', 0.005937921727395412)]\n",
      "\n",
      "strTM =  1[('交通', 0.02529074569158015), ('交通局', 0.01618142775864284), ('捷運', 0.01616307453245156), ('高雄輕軌', 0.014370576107770145), ('民眾', 0.012180424448944384), ('規劃', 0.011556414758440955), ('公車', 0.010461338929028074), ('機車', 0.010167687309967637), ('目前', 0.007622706611443849), ('運輸', 0.007506469512232425), ('改善', 0.007304584024128375), ('停車', 0.00720058240904447), ('路線', 0.007023167889195455), ('車站', 0.0068029291749001275), ('道路', 0.0067356340121987775), ('鐵路地下化', 0.006356334004245713), ('車輛', 0.0063440985201181944), ('停車場', 0.006111624321695349), ('國道', 0.005946445285973853), ('高雄市政府捷運工程局', 0.005756795281997321)]\n",
      "\n",
      "strTM =  2[('活動', 0.03215215354180405), ('舉辦', 0.018922014368514213), ('高雄', 0.012862249678964356), ('參加', 0.011293513344670809), ('昨天', 0.008759934751674591), ('運動', 0.008662756394682955), ('民眾', 0.007336965952868497), ('邀請', 0.006330475826883698), ('現場', 0.006122236490473051), ('參與', 0.005816818797070767), ('比賽', 0.004858917849581786), ('主辦', 0.004150904105785583), ('選手', 0.004088432304862388), ('理事長', 0.003866310346024364), ('台灣', 0.0037968972338874815), ('表演', 0.0037205428105369105), ('代表', 0.0035400687189810157), ('客家', 0.00344289036198938), ('特別', 0.0034081838059209385), ('上午', 0.0033804185610661853)]\n",
      "\n",
      "strTM =  3[('觀光', 0.029539659011879087), ('文化', 0.016241543789646717), ('地方', 0.01113444935406144), ('規劃', 0.010832379119219394), ('鳳山', 0.010727005781483797), ('旗津', 0.008893509704884405), ('文化局', 0.008486066132306763), ('歷史', 0.008282344346017942), ('觀光局', 0.007846801216710806), ('遊客', 0.007165386966020611), ('旅遊', 0.006722818947531102), ('特色', 0.006568271385518893), ('愛河', 0.00656124649633652), ('景點', 0.006547196717971774), ('眷村', 0.005781483797093101), ('高雄', 0.005507513118980548), ('空間', 0.005458338894703936), ('發展', 0.005240567330050369), ('圖書館', 0.005191393105773757), ('蓮池潭', 0.005121144213950025)]\n",
      "\n",
      "strTM =  4[('議員', 0.02726229349196599), ('議長', 0.020440658239306846), ('選舉', 0.01246322459668294), ('投票', 0.0066599851281885485), ('指出', 0.006369014904141476), ('法院', 0.006263942323235589), ('判決', 0.006247777310788529), ('當選', 0.006175034754776761), ('調查', 0.006142704729882642), ('亮票', 0.006102292198764993), ('賄選', 0.005649671850247325), ('臺灣高雄地方檢察署', 0.0056415893440237945), ('檢方', 0.005496104232000258), ('司法', 0.005391031651094371), ('高雄市議會', 0.005374866638647312), ('檢察官', 0.005366784132423782), ('律師', 0.004784843684329637), ('蕭永達', 0.004396883385600207), ('違反', 0.004251398273576671), ('法律', 0.004235233261129611)]\n",
      "\n",
      "strTM =  5[('高雄', 0.07345760687563668), ('產業', 0.026860883107150804), ('城市', 0.022118660936969427), ('發展', 0.02180251279229067), ('台灣', 0.015766425067035114), ('經濟', 0.012774726883130569), ('高雄市', 0.011761881901104177), ('國際', 0.010994929920494596), ('投資', 0.00907462267133473), ('推動', 0.008934112384810839), ('機會', 0.007698792782454949), ('合作', 0.007359226256688875), ('包括', 0.0066742386098848985), ('中心', 0.006451763989555402), ('就業', 0.005362809268995235), ('透過', 0.005339390887907919), ('公司', 0.005327681697364261), ('高雄市政府', 0.005234008173014999), ('第一', 0.005198880601384026), ('計畫', 0.005034951933772818)]\n",
      "\n",
      "strTM =  6[('工程', 0.024424126254766945), ('道路', 0.020717429489277295), ('水利局', 0.014245737298719688), ('經費', 0.013437610616513836), ('原住民', 0.012135257698909363), ('地方', 0.012028397972336688), ('地區', 0.010345357278817063), ('完成', 0.009844452310507651), ('改善', 0.009791022447221314), ('排水', 0.008956180833372292), ('區公所', 0.008448597132152088), ('單位', 0.007920977232199507), ('工務局', 0.007854189903091585), ('淹水', 0.007513574524641185), ('目前', 0.007032705755064149), ('李長生', 0.007019348289242565), ('計畫', 0.006652017979148996), ('原民會', 0.006411583594360478), ('施工', 0.006157791743750376), ('滯洪池', 0.006084325681731662)]\n",
      "\n",
      "strTM =  7[('服務', 0.026599365732976905), ('社會', 0.014794029255981537), ('照顧', 0.014669500390190446), ('社會局', 0.01298420973981769), ('提供', 0.011547976821027114), ('中心', 0.010958540189615952), ('協助', 0.01045212280206552), ('社區', 0.00992910156574294), ('老人', 0.00962193036345825), ('生活', 0.008625699437129526), ('補助', 0.008559284042040946), ('人口', 0.008310226310458765), ('高雄市', 0.008227207066598038), ('長輩', 0.007978149335015857), ('家庭', 0.007953243561857639), ('需要', 0.007886828166769057), ('弱勢', 0.007712487754661531), ('團體', 0.007098145350092152), ('申請', 0.00669135105517459), ('工作', 0.005919272087269829)]\n",
      "\n",
      "strTM =  8[('高雄市', 0.020220918014300725), ('登革熱', 0.018119377739050205), ('民眾', 0.015291695498774101), ('疫情', 0.010618758382668273), ('垃圾', 0.009653416711516611), ('指出', 0.008816217740075348), ('工作', 0.00866244650042287), ('去年', 0.008457418180886234), ('衛生局', 0.008072990081755042), ('持續', 0.007833790375628967), ('高市', 0.007193076877076979), ('防疫', 0.006894077244419385), ('昨天', 0.006244820899220038), ('環境', 0.006099592506214921), ('目前', 0.005792050026909967), ('死亡', 0.005740792947025808), ('防治', 0.005689535867141649), ('市民', 0.005544307474136532), ('統計', 0.005151336528357979), ('漁民', 0.004954851055468703)]\n",
      "\n",
      "strTM =  9[('民眾', 0.014027836355967946), ('下午', 0.00958245466048081), ('昨天', 0.00895824546604808), ('上午', 0.008182201602699283), ('高市', 0.007692956558414172), ('警方', 0.007659215520877267), ('前往', 0.007406157739350485), ('現場', 0.006790383804301982), ('小時', 0.006503584985238296), ('發生', 0.006090257275411219), ('醫院', 0.005845634753268663), ('家屬', 0.005710670603121046), ('臉書', 0.005153943483762126), ('發現', 0.004715309995782371), ('記者', 0.004698439477013918), ('到場', 0.004555040067482075), ('網友', 0.0043610291016448754), ('事件', 0.004251370729649937), ('抗議', 0.00420075917334458), ('醫師', 0.0037115141290594684)]\n",
      "\n",
      "strTM =  10[('市長', 0.10969229458930027), ('陳菊', 0.06069547019674166), ('高雄市', 0.05271995035832046), ('市民', 0.024182068159972744), ('團隊', 0.018871138473518356), ('高雄', 0.017283334752825803), ('努力', 0.01630388494810741), ('建設', 0.015932789059363177), ('副市長', 0.01428414994707321), ('地方', 0.013894803440849748), ('中央', 0.012355668033435132), ('包括', 0.009916168830378762), ('支持', 0.009897918212899537), ('市政府', 0.008973220260618817), ('第一', 0.008802881164146053), ('議員', 0.008346615727165435), ('市府', 0.008103274160775773), ('許立明', 0.007768679506989986), ('質詢', 0.007604423949676964), ('期待', 0.007409750696565234)]\n",
      "\n",
      "strTM =  11[('局長', 0.05073866229441693), ('議員', 0.04128141850205372), ('裡面', 0.022472574838153514), ('真的', 0.019941346495157282), ('本席', 0.01833555889859874), ('答覆', 0.018242592248271666), ('辦法', 0.01763408326431264), ('回答', 0.01607900474975068), ('市政府', 0.014054867226720306), ('地方', 0.0137252581937425), ('許崑源', 0.013636517300248474), ('報告', 0.013497067324757864), ('剛剛', 0.013251973428441035), ('時間', 0.01295194469329457), ('提到', 0.012487111441659201), ('需要', 0.011008096550092121), ('市長', 0.010336201213637363), ('包括', 0.00992207704399858), ('蔡昌達', 0.009605145281519921), ('告訴', 0.008269806122276499)]\n",
      "\n",
      "strTM =  12[('學校', 0.03747353216355071), ('學生', 0.026393972719662526), ('教育局', 0.026336523152175696), ('教育', 0.023775913858477094), ('孩子', 0.014009487385716396), ('老師', 0.012786632306353922), ('家長', 0.011194458578861841), ('大學', 0.009274001608587889), ('校長', 0.00793624739425176), ('國中', 0.007739277448582637), ('運動', 0.007205817179062095), ('國小', 0.007090918044088439), ('高雄市', 0.006803670206654302), ('校園', 0.006672356909541552), ('學習', 0.006655942747402459), ('教師', 0.0058270275593782315), ('新輝', 0.005810613397239138), ('教育部', 0.005613643451570015), ('小朋友', 0.005465915992318172), ('高中', 0.005039147776701738)]\n",
      "\n",
      "strTM =  13[('市府', 0.07740628472510942), ('議會', 0.04237691720400033), ('議員', 0.03461361110901133), ('預算', 0.02682762739154427), ('高雄市議會', 0.020870971887307334), ('指出', 0.01959346582104332), ('高市', 0.012276152968122822), ('康裕成', 0.01155046904882492), ('市民', 0.011149831051712538), ('昨天', 0.009554838270755693), ('編列', 0.00891986484137003), ('提出', 0.00851166763676496), ('質疑', 0.008209299337057503), ('高市府', 0.008073233602189147), ('審查', 0.007778424509974374), ('監督', 0.007438260172803484), ('建議', 0.00680328674341782), ('審議', 0.005268767622402467), ('許崑源', 0.0049663993226950085), ('明年', 0.004565761325582626)]\n",
      "\n",
      "strTM =  14[('台灣', 0.022411251688981698), ('民主進步黨', 0.021926053310404127), ('總統', 0.02096179830487655), ('韓國瑜', 0.020955656553248988), ('蔡英文', 0.01592556197027392), ('政治', 0.014248863775948901), ('陳菊', 0.012590590836506571), ('中國國民黨', 0.010895467387298857), ('高雄', 0.009218769192973836), ('陳水扁', 0.009052941899029603), ('立法院', 0.008586168775334725), ('執政', 0.007879867338164844), ('媒體', 0.0068480530647340625), ('民主', 0.006454980960569954), ('馬英九', 0.006362854686156492), ('支持', 0.006289153666625722), ('行政院', 0.00547844245178725), ('政府', 0.005343323915980838), ('國家', 0.004962535315071859), ('中國', 0.004882692543913524)]\n",
      "\n",
      "strTM =  15[('人員', 0.014600728883148038), ('單位', 0.013055312081930157), ('發生', 0.01101013362857714), ('高雄市政府警察局', 0.010579569743660715), ('相關', 0.009080284787255309), ('工作', 0.00768095216127693), ('警察', 0.007665574879672772), ('勞工', 0.007373406529193769), ('案件', 0.006835201673048239), ('業務', 0.006681428857006658), ('機關', 0.006373883224923498), ('員工', 0.006273930894496471), ('行政', 0.006027894388829943), ('公文', 0.005966385262413311), ('公司', 0.005343605357444911), ('員警', 0.005166766618997094), ('調查', 0.00511294613338254), ('主管', 0.00504374836616383), ('檢舉', 0.0050360597253617505), ('執行', 0.005028371084559671)]\n",
      "\n",
      "strTM =  16[('立委', 0.03145616930879207), ('民主進步黨', 0.02351233961492622), ('中國國民黨', 0.02035076521071345), ('選區', 0.017588127639839825), ('支持', 0.01478060967521555), ('議員', 0.01438665955229314), ('參選', 0.014037589823121381), ('候選人', 0.012631337485600873), ('選舉', 0.01217256012726085), ('競選', 0.011559194746001904), ('提名', 0.008337779816788259), ('總部', 0.00791889614178215), ('當選', 0.007724414435529315), ('鄉親', 0.0075748131230271324), ('初選', 0.007175876289687981), ('選民', 0.006931527479267751), ('參選人', 0.0064228830167603335), ('連任', 0.006233388020924237), ('基層', 0.005879331581335741), ('現任', 0.005729730268833558)]\n",
      "\n",
      "strTM =  17[('中央', 0.03670410886588263), ('高雄市', 0.02985599906150101), ('政府', 0.02039035692289644), ('補助', 0.01264040824705986), ('台北市', 0.010125524239669179), ('財政', 0.009641610698888465), ('地方', 0.008043229609643076), ('縣市', 0.007808604862597882), ('目前', 0.007515323928791389), ('政策', 0.0067601255242396695), ('調整', 0.006723465407513857), ('高雄市政府', 0.006466844590433176), ('減少', 0.006312872100184767), ('財政局', 0.0062835440068041174), ('公告', 0.006217555796697657), ('費用', 0.006129571516555709), ('黃淑美', 0.00594627093292665), ('去年', 0.0058436226060943775), ('負擔', 0.005792298442678242), ('收費', 0.0056089978590491835)]\n",
      "\n",
      "strTM =  18[('高雄市政府環境保護局', 0.02107575397767751), ('中國石油', 0.02005989603947334), ('污染', 0.018364600649093645), ('林園', 0.013568959603155756), ('管線', 0.013542573682682921), ('居民', 0.013404047600200532), ('公司', 0.013140188395472176), ('工廠', 0.009426370088920551), ('工業區', 0.00924826512572891), ('石化', 0.008773318557217868), ('氣爆', 0.007374864772157577), ('遷村', 0.007341882371566532), ('環境', 0.0071176020475474285), ('大林蒲', 0.006688830839863848), ('業者', 0.006662444919391013), ('環保', 0.005963218026860867), ('發生', 0.005283780574685348), ('環境影響評估', 0.005257394654212513), ('管理', 0.00508588617113908), ('廠商', 0.004874798807356395)]\n",
      "\n",
      "strTM =  19[('市場', 0.016133393420459666), ('業者', 0.014258675078864353), ('日本', 0.014168544389364579), ('農業局', 0.012158630013519604), ('農民', 0.012104551599819739), ('台灣', 0.009445696259576386), ('農業', 0.009400630914826498), ('食品', 0.006894997746732762), ('高雄', 0.005795403334835511), ('產品', 0.005452906714736368), ('蔡復進', 0.005434880576836412), ('養殖', 0.005092383956737269), ('價格', 0.004686795853988283), ('大樹', 0.004398377647589004), ('推出', 0.004389364578639026), ('公司', 0.004155024785939612), ('行政院農業委員會', 0.004136998648039658), ('去年', 0.003956737269040108), ('民眾', 0.0039296980621901755), ('農產品', 0.003911671924290221)]\n",
      "\n",
      "------------------------------\n",
      "\n",
      " Coherence Score:  0.5948086612295141\n"
     ]
    }
   ],
   "source": [
    "import os\n",
    "import gensim\n",
    "# os.envirom.update({'MALLET_HOME':r'C:/mallet-2.0.8/'})\n",
    "mallet_path = r'C://mallet/bin/mallet'\n",
    "#'OS(C:)/mallet-2.0.8/bin/mallet'\n",
    "ldamal = gensim.models.wrappers.LdaMallet(mallet_path, id2word=dict, corpus=corpus, num_topics=20)\n",
    "output = open(\"KCC Data/CkipNewsCis18850-KccDict2020-MalletNum20.txt\", 'w', encoding='utf-8-sig')\n",
    "\n",
    "#print(ldamal.show_topics(formatted=False))\n",
    "# 列出最重要的前若干个主题\n",
    "lsTM = ldamal.show_topics(num_topics=20, num_words=20, log=False, formatted=False)\n",
    "for tupleTM in lsTM:\n",
    "        str1 = \"\".join(str(x) for x in tupleTM)\n",
    "        #print(\"type(str1) = \", type(str1))\n",
    "        str1 += \"\\n\"\n",
    "        print(\"strTM = \", str1)\n",
    "        output.write(str1)\n",
    "output.close()\n",
    " \n",
    "#  print(\"------------------------------\")\n",
    "#  print(\"Perplexity = \", ldamal.log_perplexity(corpus))\n",
    "\n",
    "print(\"------------------------------\")\n",
    "cm = models.CoherenceModel(model=ldamal, texts=list(fList), dictionary= dict, coherence= 'c_v')\n",
    "coher_lda = cm.get_coherence()\n",
    "print(\"\\n Coherence Score: \", coher_lda)\n"
   ]
  },
  {
   "cell_type": "markdown",
   "metadata": {},
   "source": [
    "### Finding the optimal number of topics"
   ]
  },
  {
   "cell_type": "code",
   "execution_count": 6,
   "metadata": {},
   "outputs": [],
   "source": [
    "def compute_coherence_values(dictionary, corpus, texts, limit, start, step):\n",
    "    \"\"\"\n",
    "    Compute c_v coherence for various number of topics\n",
    "\n",
    "    Parameters:\n",
    "    ----------\n",
    "    dictionary : Gensim dictionary\n",
    "    corpus : Gensim corpus\n",
    "    texts : List of input texts\n",
    "    limit : Max num of topics\n",
    "\n",
    "    Returns:\n",
    "    -------\n",
    "    model_list : List of LDA topic models\n",
    "    coherence_values : Coherence values corresponding to the LDA model with respective number of topics\n",
    "    \"\"\"\n",
    "    # global mallet_path, dict\n",
    "    coherence_values = []\n",
    "    model_list = []\n",
    "    for num_topics in range(start, limit, step):\n",
    "        model = models.wrappers.LdaMallet(mallet_path, corpus=corpus, num_topics=num_topics, id2word=dict)\n",
    "        model_list.append(model)\n",
    "        coherencemodel = CoherenceModel(model=model, texts=texts, dictionary=dictionary, coherence='c_v')\n",
    "        coherence_values.append(coherencemodel.get_coherence())\n",
    "        coher = coherencemodel.get_coherence()\n",
    "        print(\"Num_topics: \", num_topics, \" Coherence Score= \", coher)\n",
    "    return model_list, coherence_values"
   ]
  },
  {
   "cell_type": "code",
   "execution_count": 7,
   "metadata": {
    "scrolled": true
   },
   "outputs": [
    {
     "name": "stdout",
     "output_type": "stream",
     "text": [
      "Num_topics:  3  Coherence Score=  0.461277449933123\n",
      "Num_topics:  6  Coherence Score=  0.5085599833983245\n",
      "Num_topics:  9  Coherence Score=  0.514919774505293\n",
      "Num_topics:  12  Coherence Score=  0.5492855754906876\n",
      "Num_topics:  15  Coherence Score=  0.5628320492225451\n",
      "Num_topics:  18  Coherence Score=  0.582568238287302\n",
      "Num_topics:  21  Coherence Score=  0.5849570938489446\n"
     ]
    }
   ],
   "source": [
    "lim=24; sta=3; ste=3;\n",
    "model_list, coherence_values = compute_coherence_values(dictionary=dict, corpus=corpus, texts=list(fList), limit=lim, start=sta, step=ste)"
   ]
  },
  {
   "cell_type": "code",
   "execution_count": 8,
   "metadata": {
    "scrolled": true
   },
   "outputs": [
    {
     "data": {
      "image/png": "[encoded data removed]",
      "text/plain": [
       "<Figure size 432x288 with 1 Axes>"
      ]
     },
     "metadata": {
      "needs_background": "light"
     },
     "output_type": "display_data"
    }
   ],
   "source": [
    "# Show graph\n",
    "import matplotlib.pyplot as plt\n",
    "\n",
    "limit=lim; start=sta; step=ste;\n",
    "x = range(start, limit, step)\n",
    "plt.plot(x, coherence_values)\n",
    "plt.xlabel(\"Num Topics\")\n",
    "plt.ylabel(\"Coherence score\")\n",
    "plt.legend((\"coherence_values\"), loc='best')\n",
    "plt.show()"
   ]
  },
  {
   "cell_type": "code",
   "execution_count": 9,
   "metadata": {},
   "outputs": [
    {
     "name": "stdout",
     "output_type": "stream",
     "text": [
      "Num Topics = 3  has Coherence Value of 0.4613\n",
      "Num Topics = 6  has Coherence Value of 0.5086\n",
      "Num Topics = 9  has Coherence Value of 0.5149\n",
      "Num Topics = 12  has Coherence Value of 0.5493\n",
      "Num Topics = 15  has Coherence Value of 0.5628\n",
      "Num Topics = 18  has Coherence Value of 0.5826\n",
      "Num Topics = 21  has Coherence Value of 0.585\n",
      "Optimal Topic Num = 21  Highest Value = 0.5849570938489446\n"
     ]
    }
   ],
   "source": [
    "# Print the coherence scores\n",
    "optNum = 0\n",
    "maxCV = 0\n",
    "for m, cv in zip(x, coherence_values):\n",
    "    # maxCV = lambda cv, maxCV: cv if cv > maxCV else maxCV\n",
    "    if cv > maxCV:\n",
    "        optNum = m\n",
    "        maxCV = cv \n",
    "    print(\"Num Topics =\", m, \" has Coherence Value of\", round(cv, 4))\n",
    "print(\"Optimal Topic Num =\", optNum, \" Highest Value =\", maxCV)"
   ]
  },
  {
   "cell_type": "markdown",
   "metadata": {},
   "source": [
    "###  Select the model and print the topics"
   ]
  },
  {
   "cell_type": "code",
   "execution_count": 10,
   "metadata": {},
   "outputs": [
    {
     "name": "stdout",
     "output_type": "stream",
     "text": [
      "[(0,\n",
      "  '0.033*\"學校\" + 0.023*\"學生\" + 0.023*\"教育局\" + 0.021*\"教育\" + 0.016*\"運動\" + '\n",
      "  '0.012*\"孩子\" + 0.011*\"老師\" + 0.010*\"家長\" + 0.009*\"高雄市\" + 0.007*\"校長\" + '\n",
      "  '0.007*\"國中\" + 0.006*\"國小\" + 0.006*\"學習\" + 0.006*\"校園\" + 0.005*\"大學\" + 0.005*\"空間\" '\n",
      "  '+ 0.005*\"小朋友\" + 0.005*\"教師\" + 0.005*\"新輝\" + 0.005*\"教育部\"'),\n",
      " (1,\n",
      "  '0.015*\"水利局\" + 0.013*\"工程\" + 0.013*\"原住民\" + 0.013*\"地區\" + 0.010*\"地方\" + '\n",
      "  '0.010*\"區公所\" + 0.010*\"農民\" + 0.010*\"排水\" + 0.009*\"農業局\" + 0.008*\"目前\" + '\n",
      "  '0.008*\"淹水\" + 0.008*\"美濃\" + 0.008*\"旗山\" + 0.007*\"李長生\" + 0.007*\"原民會\" + '\n",
      "  '0.007*\"單位\" + 0.007*\"經費\" + 0.006*\"滯洪池\" + 0.006*\"議員\" + 0.006*\"改善\"'),\n",
      " (2,\n",
      "  '0.022*\"高雄市政府環境保護局\" + 0.019*\"中國石油\" + 0.017*\"污染\" + 0.015*\"公司\" + 0.013*\"管線\" + '\n",
      "  '0.013*\"居民\" + 0.010*\"業者\" + 0.009*\"工廠\" + 0.008*\"石化\" + 0.008*\"環境\" + 0.007*\"環保\" '\n",
      "  '+ 0.007*\"遷村\" + 0.007*\"垃圾\" + 0.007*\"廠商\" + 0.006*\"大林蒲\" + 0.006*\"工業區\" + '\n",
      "  '0.006*\"管理\" + 0.005*\"相關\" + 0.005*\"中央\" + 0.005*\"地方\"'),\n",
      " (3,\n",
      "  '0.076*\"高雄\" + 0.024*\"產業\" + 0.023*\"高雄市\" + 0.021*\"城市\" + 0.019*\"發展\" + '\n",
      "  '0.018*\"台灣\" + 0.013*\"經濟\" + 0.010*\"國際\" + 0.009*\"推動\" + 0.009*\"機會\" + 0.008*\"投資\" '\n",
      "  '+ 0.007*\"包括\" + 0.007*\"合作\" + 0.007*\"高雄市政府\" + 0.007*\"努力\" + 0.006*\"第一\" + '\n",
      "  '0.006*\"國家\" + 0.005*\"就業\" + 0.005*\"世界\" + 0.005*\"政府\"'),\n",
      " (4,\n",
      "  '0.062*\"市長\" + 0.042*\"局長\" + 0.033*\"議員\" + 0.019*\"裡面\" + 0.017*\"真的\" + 0.016*\"本席\" '\n",
      "  '+ 0.016*\"市政府\" + 0.015*\"答覆\" + 0.014*\"辦法\" + 0.013*\"回答\" + 0.013*\"時間\" + '\n",
      "  '0.012*\"地方\" + 0.011*\"報告\" + 0.011*\"剛剛\" + 0.010*\"提到\" + 0.010*\"許崑源\" + '\n",
      "  '0.009*\"包括\" + 0.008*\"需要\" + 0.007*\"蔡昌達\" + 0.007*\"質詢\"'),\n",
      " (5,\n",
      "  '0.043*\"議會\" + 0.040*\"議員\" + 0.032*\"市府\" + 0.024*\"市民\" + 0.022*\"高雄市議會\" + '\n",
      "  '0.015*\"康裕成\" + 0.015*\"登革熱\" + 0.014*\"議長\" + 0.012*\"陳菊\" + 0.010*\"高雄市\" + '\n",
      "  '0.009*\"疫情\" + 0.008*\"監督\" + 0.008*\"許崑源\" + 0.008*\"質詢\" + 0.007*\"昨天\" + '\n",
      "  '0.006*\"衛生局\" + 0.006*\"指出\" + 0.006*\"防疫\" + 0.006*\"黃紹庭\" + 0.005*\"審查\"'),\n",
      " (6,\n",
      "  '0.038*\"陳菊\" + 0.018*\"韓國瑜\" + 0.018*\"總統\" + 0.018*\"民主進步黨\" + 0.016*\"台灣\" + '\n",
      "  '0.013*\"蔡英文\" + 0.013*\"政治\" + 0.011*\"高雄\" + 0.011*\"市長\" + 0.009*\"高雄市\" + '\n",
      "  '0.008*\"陳水扁\" + 0.008*\"執政\" + 0.007*\"媒體\" + 0.007*\"中國國民黨\" + 0.006*\"立法院\" + '\n",
      "  '0.006*\"支持\" + 0.006*\"民主\" + 0.006*\"馬英九\" + 0.005*\"行政院\" + 0.005*\"政府\"'),\n",
      " (7,\n",
      "  '0.031*\"地方\" + 0.024*\"土地\" + 0.021*\"規劃\" + 0.016*\"開發\" + 0.013*\"目前\" + 0.012*\"鳳山\" '\n",
      "  '+ 0.011*\"地區\" + 0.011*\"公頃\" + 0.010*\"計畫\" + 0.010*\"岡山\" + 0.010*\"完成\" + '\n",
      "  '0.010*\"建設\" + 0.009*\"發展\" + 0.009*\"公園\" + 0.008*\"林園\" + 0.007*\"都市計畫\" + '\n",
      "  '0.007*\"包括\" + 0.007*\"市府\" + 0.007*\"興建\" + 0.007*\"空間\"'),\n",
      " (8,\n",
      "  '0.016*\"申請\" + 0.014*\"市府\" + 0.011*\"土地\" + 0.010*\"相關\" + 0.009*\"政府\" + 0.007*\"公告\" '\n",
      "  '+ 0.007*\"高雄市政府\" + 0.006*\"提出\" + 0.006*\"機關\" + 0.006*\"大樓\" + 0.005*\"程序\" + '\n",
      "  '0.005*\"徵收\" + 0.005*\"辦理\" + 0.005*\"民眾\" + 0.005*\"房子\" + 0.005*\"方式\" + 0.005*\"合法\" '\n",
      "  '+ 0.005*\"業者\" + 0.005*\"法令\" + 0.005*\"資料\"'),\n",
      " (9,\n",
      "  '0.032*\"道路\" + 0.016*\"工務局\" + 0.011*\"改善\" + 0.011*\"工程\" + 0.011*\"交通\" + '\n",
      "  '0.010*\"民眾\" + 0.010*\"地方\" + 0.009*\"公園\" + 0.008*\"停車場\" + 0.007*\"機車\" + '\n",
      "  '0.007*\"高雄市政府工務局養護工程處\" + 0.007*\"停車\" + 0.007*\"交通局\" + 0.007*\"公尺\" + 0.007*\"施工\" '\n",
      "  '+ 0.007*\"單位\" + 0.006*\"會勘\" + 0.006*\"建議\" + 0.006*\"開闢\" + 0.005*\"車輛\"'),\n",
      " (10,\n",
      "  '0.025*\"觀光\" + 0.018*\"高雄\" + 0.016*\"文化\" + 0.015*\"活動\" + 0.007*\"觀光局\" + '\n",
      "  '0.007*\"文化局\" + 0.007*\"日本\" + 0.006*\"特色\" + 0.006*\"旅遊\" + 0.006*\"台灣\" + '\n",
      "  '0.006*\"歷史\" + 0.006*\"景點\" + 0.006*\"遊客\" + 0.005*\"藝術\" + 0.005*\"民眾\" + 0.005*\"吸引\" '\n",
      "  '+ 0.005*\"行銷\" + 0.005*\"愛河\" + 0.005*\"舉辦\" + 0.005*\"蓮池潭\"'),\n",
      " (11,\n",
      "  '0.020*\"服務\" + 0.013*\"照顧\" + 0.013*\"工作\" + 0.012*\"社會\" + 0.011*\"社會局\" + '\n",
      "  '0.009*\"社區\" + 0.009*\"需要\" + 0.009*\"提供\" + 0.008*\"老人\" + 0.008*\"勞工\" + 0.007*\"醫療\" '\n",
      "  '+ 0.007*\"生活\" + 0.007*\"人員\" + 0.007*\"長輩\" + 0.007*\"協助\" + 0.007*\"醫院\" + '\n",
      "  '0.006*\"高雄市\" + 0.006*\"家庭\" + 0.006*\"特別\" + 0.005*\"健康\"'),\n",
      " (12,\n",
      "  '0.030*\"立委\" + 0.026*\"民主進步黨\" + 0.022*\"中國國民黨\" + 0.017*\"選區\" + 0.016*\"議員\" + '\n",
      "  '0.015*\"支持\" + 0.015*\"選舉\" + 0.013*\"參選\" + 0.013*\"候選人\" + 0.011*\"競選\" + '\n",
      "  '0.009*\"當選\" + 0.008*\"提名\" + 0.008*\"總部\" + 0.008*\"鄉親\" + 0.007*\"選民\" + 0.007*\"初選\" '\n",
      "  '+ 0.007*\"參選人\" + 0.006*\"連任\" + 0.006*\"基層\" + 0.006*\"綠營\"'),\n",
      " (13,\n",
      "  '0.021*\"活動\" + 0.014*\"舉辦\" + 0.011*\"昨天\" + 0.010*\"參加\" + 0.007*\"參與\" + '\n",
      "  '0.007*\"理事長\" + 0.006*\"現場\" + 0.005*\"陳菊\" + 0.005*\"高雄市\" + 0.005*\"代表\" + '\n",
      "  '0.005*\"民眾\" + 0.005*\"邀請\" + 0.004*\"團體\" + 0.004*\"到場\" + 0.004*\"精神\" + 0.004*\"出席\" '\n",
      "  '+ 0.004*\"上午\" + 0.004*\"客家\" + 0.003*\"擔任\" + 0.003*\"支持\"'),\n",
      " (14,\n",
      "  '0.042*\"高雄市\" + 0.026*\"中央\" + 0.025*\"預算\" + 0.021*\"市府\" + 0.017*\"補助\" + '\n",
      "  '0.012*\"去年\" + 0.011*\"經費\" + 0.010*\"編列\" + 0.009*\"台北市\" + 0.009*\"政府\" + '\n",
      "  '0.009*\"縣市\" + 0.009*\"財政\" + 0.008*\"建設\" + 0.008*\"減少\" + 0.007*\"人口\" + 0.007*\"地方\" '\n",
      "  '+ 0.007*\"明年\" + 0.006*\"平均\" + 0.006*\"費用\" + 0.006*\"政策\"'),\n",
      " (15,\n",
      "  '0.018*\"捷運\" + 0.017*\"交通\" + 0.016*\"高雄輕軌\" + 0.015*\"規劃\" + 0.012*\"公車\" + '\n",
      "  '0.010*\"民眾\" + 0.010*\"交通局\" + 0.010*\"目前\" + 0.009*\"旗津\" + 0.009*\"高雄\" + '\n",
      "  '0.009*\"運輸\" + 0.008*\"路線\" + 0.008*\"第一\" + 0.008*\"車站\" + 0.008*\"系統\" + 0.008*\"階段\" '\n",
      "  '+ 0.007*\"市府\" + 0.007*\"鐵路地下化\" + 0.007*\"營運\" + 0.007*\"公共\"'),\n",
      " (16,\n",
      "  '0.016*\"議員\" + 0.008*\"高雄市政府警察局\" + 0.008*\"警方\" + 0.007*\"調查\" + 0.007*\"警察\" + '\n",
      "  '0.006*\"選舉\" + 0.005*\"判決\" + 0.005*\"洪平朗\" + 0.005*\"亮票\" + 0.005*\"議長\" + '\n",
      "  '0.005*\"檢舉\" + 0.005*\"賄選\" + 0.005*\"臺灣高雄地方檢察署\" + 0.005*\"檢方\" + 0.004*\"員警\" + '\n",
      "  '0.004*\"檢察官\" + 0.004*\"法院\" + 0.004*\"司法\" + 0.004*\"違反\" + 0.004*\"鄭新助\"'),\n",
      " (17,\n",
      "  '0.026*\"民眾\" + 0.020*\"高市\" + 0.019*\"指出\" + 0.017*\"昨天\" + 0.009*\"發生\" + 0.009*\"人員\" '\n",
      "  '+ 0.008*\"高市府\" + 0.007*\"前往\" + 0.007*\"下午\" + 0.007*\"上午\" + 0.006*\"小時\" + '\n",
      "  '0.005*\"去年\" + 0.005*\"市府\" + 0.005*\"氣爆\" + 0.005*\"現場\" + 0.005*\"三月\" + 0.004*\"日前\" '\n",
      "  '+ 0.004*\"時間\" + 0.004*\"陸續\" + 0.004*\"五月\"')]\n"
     ]
    }
   ],
   "source": [
    "from pprint import pprint\n",
    "\n",
    "optimal_model = model_list[5]\n",
    "# model_topics = optimal_model.show_topics(formatted=False)\n",
    "pprint(optimal_model.print_topics(num_words=20))"
   ]
  },
  {
   "cell_type": "code",
   "execution_count": null,
   "metadata": {},
   "outputs": [],
   "source": []
  }
 ],
 "metadata": {
  "kernelspec": {
   "display_name": "Python 3",
   "language": "python",
   "name": "python3"
  },
  "language_info": {
   "codemirror_mode": {
    "name": "ipython",
    "version": 3
   },
   "file_extension": ".py",
   "mimetype": "text/x-python",
   "name": "python",
   "nbconvert_exporter": "python",
   "pygments_lexer": "ipython3",
   "version": "3.8.5"
  }
 },
 "nbformat": 4,
 "nbformat_minor": 4
}
